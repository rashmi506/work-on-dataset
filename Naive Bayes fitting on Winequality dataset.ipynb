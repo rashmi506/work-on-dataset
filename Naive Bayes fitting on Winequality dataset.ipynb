{
 "cells": [
  {
   "cell_type": "code",
   "execution_count": 7,
   "id": "fcf8bc9d",
   "metadata": {},
   "outputs": [],
   "source": [
    "import numpy as np\n",
    "import pandas as pd\n",
    "import matplotlib.pyplot as plt\n"
   ]
  },
  {
   "cell_type": "code",
   "execution_count": null,
   "id": "38c859ae",
   "metadata": {},
   "outputs": [],
   "source": [
    "## Importing dataset"
   ]
  },
  {
   "cell_type": "code",
   "execution_count": 8,
   "id": "14d4bded",
   "metadata": {},
   "outputs": [
    {
     "data": {
      "text/html": [
       "<div>\n",
       "<style scoped>\n",
       "    .dataframe tbody tr th:only-of-type {\n",
       "        vertical-align: middle;\n",
       "    }\n",
       "\n",
       "    .dataframe tbody tr th {\n",
       "        vertical-align: top;\n",
       "    }\n",
       "\n",
       "    .dataframe thead th {\n",
       "        text-align: right;\n",
       "    }\n",
       "</style>\n",
       "<table border=\"1\" class=\"dataframe\">\n",
       "  <thead>\n",
       "    <tr style=\"text-align: right;\">\n",
       "      <th></th>\n",
       "      <th>fixed acidity</th>\n",
       "      <th>volatile acidity</th>\n",
       "      <th>citric acid</th>\n",
       "      <th>residual sugar</th>\n",
       "      <th>chlorides</th>\n",
       "      <th>free sulfur dioxide</th>\n",
       "      <th>total sulfur dioxide</th>\n",
       "      <th>density</th>\n",
       "      <th>pH</th>\n",
       "      <th>sulphates</th>\n",
       "      <th>alcohol</th>\n",
       "      <th>quality</th>\n",
       "    </tr>\n",
       "  </thead>\n",
       "  <tbody>\n",
       "    <tr>\n",
       "      <th>0</th>\n",
       "      <td>7.4</td>\n",
       "      <td>0.70</td>\n",
       "      <td>0.00</td>\n",
       "      <td>1.9</td>\n",
       "      <td>0.076</td>\n",
       "      <td>11.0</td>\n",
       "      <td>34.0</td>\n",
       "      <td>0.9978</td>\n",
       "      <td>3.51</td>\n",
       "      <td>0.56</td>\n",
       "      <td>9.4</td>\n",
       "      <td>5</td>\n",
       "    </tr>\n",
       "    <tr>\n",
       "      <th>1</th>\n",
       "      <td>7.8</td>\n",
       "      <td>0.88</td>\n",
       "      <td>0.00</td>\n",
       "      <td>2.6</td>\n",
       "      <td>0.098</td>\n",
       "      <td>25.0</td>\n",
       "      <td>67.0</td>\n",
       "      <td>0.9968</td>\n",
       "      <td>3.20</td>\n",
       "      <td>0.68</td>\n",
       "      <td>9.8</td>\n",
       "      <td>5</td>\n",
       "    </tr>\n",
       "    <tr>\n",
       "      <th>2</th>\n",
       "      <td>7.8</td>\n",
       "      <td>0.76</td>\n",
       "      <td>0.04</td>\n",
       "      <td>2.3</td>\n",
       "      <td>0.092</td>\n",
       "      <td>15.0</td>\n",
       "      <td>54.0</td>\n",
       "      <td>0.9970</td>\n",
       "      <td>3.26</td>\n",
       "      <td>0.65</td>\n",
       "      <td>9.8</td>\n",
       "      <td>5</td>\n",
       "    </tr>\n",
       "    <tr>\n",
       "      <th>3</th>\n",
       "      <td>11.2</td>\n",
       "      <td>0.28</td>\n",
       "      <td>0.56</td>\n",
       "      <td>1.9</td>\n",
       "      <td>0.075</td>\n",
       "      <td>17.0</td>\n",
       "      <td>60.0</td>\n",
       "      <td>0.9980</td>\n",
       "      <td>3.16</td>\n",
       "      <td>0.58</td>\n",
       "      <td>9.8</td>\n",
       "      <td>6</td>\n",
       "    </tr>\n",
       "    <tr>\n",
       "      <th>4</th>\n",
       "      <td>7.4</td>\n",
       "      <td>0.70</td>\n",
       "      <td>0.00</td>\n",
       "      <td>1.9</td>\n",
       "      <td>0.076</td>\n",
       "      <td>11.0</td>\n",
       "      <td>34.0</td>\n",
       "      <td>0.9978</td>\n",
       "      <td>3.51</td>\n",
       "      <td>0.56</td>\n",
       "      <td>9.4</td>\n",
       "      <td>5</td>\n",
       "    </tr>\n",
       "    <tr>\n",
       "      <th>...</th>\n",
       "      <td>...</td>\n",
       "      <td>...</td>\n",
       "      <td>...</td>\n",
       "      <td>...</td>\n",
       "      <td>...</td>\n",
       "      <td>...</td>\n",
       "      <td>...</td>\n",
       "      <td>...</td>\n",
       "      <td>...</td>\n",
       "      <td>...</td>\n",
       "      <td>...</td>\n",
       "      <td>...</td>\n",
       "    </tr>\n",
       "    <tr>\n",
       "      <th>1739</th>\n",
       "      <td>6.6</td>\n",
       "      <td>0.52</td>\n",
       "      <td>0.04</td>\n",
       "      <td>2.2</td>\n",
       "      <td>0.069</td>\n",
       "      <td>8.0</td>\n",
       "      <td>15.0</td>\n",
       "      <td>0.9956</td>\n",
       "      <td>3.40</td>\n",
       "      <td>0.63</td>\n",
       "      <td>9.4</td>\n",
       "      <td>6</td>\n",
       "    </tr>\n",
       "    <tr>\n",
       "      <th>1740</th>\n",
       "      <td>6.6</td>\n",
       "      <td>0.50</td>\n",
       "      <td>0.04</td>\n",
       "      <td>2.1</td>\n",
       "      <td>0.068</td>\n",
       "      <td>6.0</td>\n",
       "      <td>14.0</td>\n",
       "      <td>0.9955</td>\n",
       "      <td>3.39</td>\n",
       "      <td>0.64</td>\n",
       "      <td>9.4</td>\n",
       "      <td>6</td>\n",
       "    </tr>\n",
       "    <tr>\n",
       "      <th>1741</th>\n",
       "      <td>8.6</td>\n",
       "      <td>0.38</td>\n",
       "      <td>0.36</td>\n",
       "      <td>3.0</td>\n",
       "      <td>0.081</td>\n",
       "      <td>30.0</td>\n",
       "      <td>119.0</td>\n",
       "      <td>0.9970</td>\n",
       "      <td>3.20</td>\n",
       "      <td>0.56</td>\n",
       "      <td>9.4</td>\n",
       "      <td>5</td>\n",
       "    </tr>\n",
       "    <tr>\n",
       "      <th>1742</th>\n",
       "      <td>7.6</td>\n",
       "      <td>0.51</td>\n",
       "      <td>0.15</td>\n",
       "      <td>2.8</td>\n",
       "      <td>0.110</td>\n",
       "      <td>33.0</td>\n",
       "      <td>73.0</td>\n",
       "      <td>0.9955</td>\n",
       "      <td>3.17</td>\n",
       "      <td>0.63</td>\n",
       "      <td>10.2</td>\n",
       "      <td>6</td>\n",
       "    </tr>\n",
       "    <tr>\n",
       "      <th>1743</th>\n",
       "      <td>7.7</td>\n",
       "      <td>0.62</td>\n",
       "      <td>0.04</td>\n",
       "      <td>3.8</td>\n",
       "      <td>0.084</td>\n",
       "      <td>25.0</td>\n",
       "      <td>45.0</td>\n",
       "      <td>0.9978</td>\n",
       "      <td>3.34</td>\n",
       "      <td>0.53</td>\n",
       "      <td>9.5</td>\n",
       "      <td>5</td>\n",
       "    </tr>\n",
       "  </tbody>\n",
       "</table>\n",
       "<p>1744 rows × 12 columns</p>\n",
       "</div>"
      ],
      "text/plain": [
       "      fixed acidity  volatile acidity  citric acid  residual sugar  chlorides  \\\n",
       "0               7.4              0.70         0.00             1.9      0.076   \n",
       "1               7.8              0.88         0.00             2.6      0.098   \n",
       "2               7.8              0.76         0.04             2.3      0.092   \n",
       "3              11.2              0.28         0.56             1.9      0.075   \n",
       "4               7.4              0.70         0.00             1.9      0.076   \n",
       "...             ...               ...          ...             ...        ...   \n",
       "1739            6.6              0.52         0.04             2.2      0.069   \n",
       "1740            6.6              0.50         0.04             2.1      0.068   \n",
       "1741            8.6              0.38         0.36             3.0      0.081   \n",
       "1742            7.6              0.51         0.15             2.8      0.110   \n",
       "1743            7.7              0.62         0.04             3.8      0.084   \n",
       "\n",
       "      free sulfur dioxide  total sulfur dioxide  density    pH  sulphates  \\\n",
       "0                    11.0                  34.0   0.9978  3.51       0.56   \n",
       "1                    25.0                  67.0   0.9968  3.20       0.68   \n",
       "2                    15.0                  54.0   0.9970  3.26       0.65   \n",
       "3                    17.0                  60.0   0.9980  3.16       0.58   \n",
       "4                    11.0                  34.0   0.9978  3.51       0.56   \n",
       "...                   ...                   ...      ...   ...        ...   \n",
       "1739                  8.0                  15.0   0.9956  3.40       0.63   \n",
       "1740                  6.0                  14.0   0.9955  3.39       0.64   \n",
       "1741                 30.0                 119.0   0.9970  3.20       0.56   \n",
       "1742                 33.0                  73.0   0.9955  3.17       0.63   \n",
       "1743                 25.0                  45.0   0.9978  3.34       0.53   \n",
       "\n",
       "      alcohol  quality  \n",
       "0         9.4        5  \n",
       "1         9.8        5  \n",
       "2         9.8        5  \n",
       "3         9.8        6  \n",
       "4         9.4        5  \n",
       "...       ...      ...  \n",
       "1739      9.4        6  \n",
       "1740      9.4        6  \n",
       "1741      9.4        5  \n",
       "1742     10.2        6  \n",
       "1743      9.5        5  \n",
       "\n",
       "[1744 rows x 12 columns]"
      ]
     },
     "execution_count": 8,
     "metadata": {},
     "output_type": "execute_result"
    }
   ],
   "source": [
    "data=pd.read_csv(\"F:/ML course/Machine Learning Full/Naive Bayes/winequality-red.csv\")\n",
    "data"
   ]
  },
  {
   "cell_type": "code",
   "execution_count": 9,
   "id": "341cebe6",
   "metadata": {},
   "outputs": [
    {
     "data": {
      "text/plain": [
       "0       5\n",
       "1       5\n",
       "2       5\n",
       "3       6\n",
       "4       5\n",
       "       ..\n",
       "1739    6\n",
       "1740    6\n",
       "1741    5\n",
       "1742    6\n",
       "1743    5\n",
       "Name: quality, Length: 1744, dtype: int64"
      ]
     },
     "execution_count": 9,
     "metadata": {},
     "output_type": "execute_result"
    }
   ],
   "source": [
    "x=data.iloc[:,:-1]\n",
    "x\n",
    "y=data.iloc[:,-1]\n",
    "y"
   ]
  },
  {
   "cell_type": "code",
   "execution_count": null,
   "id": "7fd9a801",
   "metadata": {},
   "outputs": [],
   "source": [
    "## Training and testing dataset"
   ]
  },
  {
   "cell_type": "code",
   "execution_count": 10,
   "id": "c779da15",
   "metadata": {},
   "outputs": [
    {
     "name": "stdout",
     "output_type": "stream",
     "text": [
      "      fixed acidity  volatile acidity  citric acid  residual sugar  chlorides  \\\n",
      "1362            8.7             0.630         0.28             2.7      0.096   \n",
      "531            10.4             0.240         0.46             1.8      0.075   \n",
      "50              6.4             0.400         0.23             1.6      0.066   \n",
      "1519            7.0             0.590         0.00             1.7      0.052   \n",
      "1107            7.1             0.430         0.17             1.8      0.082   \n",
      "...             ...               ...          ...             ...        ...   \n",
      "599             9.8             0.500         0.49             2.6      0.250   \n",
      "1599            6.1             0.320         0.25             2.3      0.071   \n",
      "1361            7.9             0.765         0.00             2.0      0.084   \n",
      "1547            6.8             0.590         0.10             1.7      0.063   \n",
      "863             6.7             0.540         0.13             2.0      0.076   \n",
      "\n",
      "      free sulfur dioxide  total sulfur dioxide  density    pH  sulphates  \\\n",
      "1362                 17.0                  69.0  0.99734  3.26       0.63   \n",
      "531                   6.0                  21.0  0.99760  3.25       1.02   \n",
      "50                    5.0                  12.0  0.99580  3.34       0.56   \n",
      "1519                  3.0                   8.0  0.99600  3.41       0.47   \n",
      "1107                 27.0                  51.0  0.99634  3.49       0.64   \n",
      "...                   ...                   ...      ...   ...        ...   \n",
      "599                   5.0                  20.0  0.99900  3.31       0.79   \n",
      "1599                 23.0                  58.0  0.99633  3.42       0.97   \n",
      "1361                  9.0                  22.0  0.99619  3.33       0.68   \n",
      "1547                 34.0                  53.0  0.99580  3.41       0.67   \n",
      "863                  15.0                  36.0  0.99730  3.61       0.64   \n",
      "\n",
      "      alcohol  \n",
      "1362     10.2  \n",
      "531      10.8  \n",
      "50        9.2  \n",
      "1519     10.3  \n",
      "1107     10.4  \n",
      "...       ...  \n",
      "599      10.7  \n",
      "1599     10.6  \n",
      "1361     10.9  \n",
      "1547      9.7  \n",
      "863       9.8  \n",
      "\n",
      "[1308 rows x 11 columns]\n",
      "138     6\n",
      "552     5\n",
      "694     5\n",
      "1197    5\n",
      "60      5\n",
      "       ..\n",
      "914     6\n",
      "1557    5\n",
      "1089    7\n",
      "191     5\n",
      "1182    6\n",
      "Name: quality, Length: 436, dtype: int64\n"
     ]
    }
   ],
   "source": [
    "from sklearn.model_selection import train_test_split\n",
    "x_train,x_test,y_train,y_test=train_test_split(x,y,test_size=0.25,random_state=101)\n",
    "print(x_train)\n",
    "print(y_test)\n"
   ]
  },
  {
   "cell_type": "code",
   "execution_count": 11,
   "id": "c4ad1380",
   "metadata": {},
   "outputs": [],
   "source": [
    "## Fitting naive bayes classifier"
   ]
  },
  {
   "cell_type": "code",
   "execution_count": 12,
   "id": "3f391ae4",
   "metadata": {},
   "outputs": [],
   "source": [
    "from sklearn.preprocessing import StandardScaler\n",
    "sc=StandardScaler()\n",
    "x_train=sc.fit_transform(x_train)\n",
    "x_test=sc.transform(x_test)"
   ]
  },
  {
   "cell_type": "code",
   "execution_count": 13,
   "id": "399300ae",
   "metadata": {},
   "outputs": [
    {
     "data": {
      "text/plain": [
       "GaussianNB()"
      ]
     },
     "execution_count": 13,
     "metadata": {},
     "output_type": "execute_result"
    }
   ],
   "source": [
    "from sklearn.naive_bayes import GaussianNB\n",
    "classifier=GaussianNB()\n",
    "classifier.fit(x_train,y_train)"
   ]
  },
  {
   "cell_type": "code",
   "execution_count": 14,
   "id": "74fa2499",
   "metadata": {},
   "outputs": [
    {
     "name": "stdout",
     "output_type": "stream",
     "text": [
      "[6 5 5 5 5 6 5 5 5 6 5 6 5 7 4 5 8 5 5 6 5 5 5 6 5 5 6 7 5 5 4 4 5 6 5 5 5\n",
      " 5 7 4 5 4 3 5 6 6 6 5 6 5 5 4 5 5 5 5 7 5 6 5 6 5 5 5 5 5 6 6 6 4 5 5 8 8\n",
      " 6 7 5 4 7 6 4 4 8 6 5 6 6 7 4 5 5 3 6 6 8 5 6 7 5 6 5 5 6 5 5 5 5 6 7 5 5\n",
      " 8 7 5 6 4 7 5 5 5 6 5 4 5 3 7 5 5 6 7 7 5 3 6 4 5 5 5 5 4 6 4 5 5 4 5 5 6\n",
      " 5 5 6 4 6 5 6 6 7 6 6 5 5 6 6 4 6 5 7 5 5 7 6 5 5 7 6 6 5 6 4 8 8 7 6 5 3\n",
      " 5 5 5 4 5 5 8 6 5 5 7 5 4 4 4 5 6 4 8 6 7 5 5 6 5 7 5 5 5 8 5 5 6 8 5 8 6\n",
      " 7 5 5 4 5 5 6 5 6 5 7 6 4 5 5 5 6 4 5 5 5 7 6 8 7 6 7 5 5 5 4 5 5 6 7 6 7\n",
      " 6 5 7 5 5 6 5 5 6 5 6 5 7 5 5 5 7 3 5 5 6 5 6 8 6 5 4 4 5 6 5 7 5 8 7 4 7\n",
      " 6 5 6 5 6 6 6 6 8 6 5 5 5 5 5 6 3 7 6 6 5 6 6 5 5 5 5 5 5 3 4 5 5 6 6 5 6\n",
      " 5 6 7 8 5 5 6 6 6 5 4 5 5 5 8 4 6 6 6 8 7 8 4 6 5 6 6 5 5 7 6 6 5 5 6 3 5\n",
      " 6 5 5 8 5 6 5 6 5 6 6 5 5 6 6 4 7 5 7 5 4 6 8 5 7 5 6 6 8 5 6 3 3 8 8 8 6\n",
      " 7 5 6 5 5 5 6 8 6 5 3 5 5 7 6 7 6 5 5 7 6 4 5 4 6 6 6 5 6]\n"
     ]
    }
   ],
   "source": [
    "y_pred=classifier.predict(x_test)\n",
    "print(y_pred)"
   ]
  },
  {
   "cell_type": "code",
   "execution_count": 15,
   "id": "20231533",
   "metadata": {},
   "outputs": [
    {
     "data": {
      "text/plain": [
       "array([[  3,   2,   0,   0,   0,   0],\n",
       "       [  0,  10,   7,   1,   1,   0],\n",
       "       [  3,  15, 126,  31,   4,   2],\n",
       "       [  6,   7,  55,  69,  17,   6],\n",
       "       [  0,   6,   2,  18,  24,   9],\n",
       "       [  0,   0,   0,   1,   0,  11]], dtype=int64)"
      ]
     },
     "execution_count": 15,
     "metadata": {},
     "output_type": "execute_result"
    }
   ],
   "source": [
    "from sklearn.metrics import confusion_matrix\n",
    "c_m=confusion_matrix(y_test,y_pred)\n",
    "c_m"
   ]
  },
  {
   "cell_type": "code",
   "execution_count": 16,
   "id": "7457051c",
   "metadata": {},
   "outputs": [
    {
     "name": "stdout",
     "output_type": "stream",
     "text": [
      "              precision    recall  f1-score   support\n",
      "\n",
      "           3       0.25      0.60      0.35         5\n",
      "           4       0.25      0.53      0.34        19\n",
      "           5       0.66      0.70      0.68       181\n",
      "           6       0.57      0.43      0.49       160\n",
      "           7       0.52      0.41      0.46        59\n",
      "           8       0.39      0.92      0.55        12\n",
      "\n",
      "    accuracy                           0.56       436\n",
      "   macro avg       0.44      0.60      0.48       436\n",
      "weighted avg       0.58      0.56      0.56       436\n",
      "\n"
     ]
    }
   ],
   "source": [
    "from sklearn.metrics import classification_report  ## For checking accuaracy\n",
    "print(classification_report(y_test,y_pred))"
   ]
  }
 ],
 "metadata": {
  "kernelspec": {
   "display_name": "Python 3 (ipykernel)",
   "language": "python",
   "name": "python3"
  },
  "language_info": {
   "codemirror_mode": {
    "name": "ipython",
    "version": 3
   },
   "file_extension": ".py",
   "mimetype": "text/x-python",
   "name": "python",
   "nbconvert_exporter": "python",
   "pygments_lexer": "ipython3",
   "version": "3.9.5"
  }
 },
 "nbformat": 4,
 "nbformat_minor": 5
}
